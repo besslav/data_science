{
 "cells": [
  {
   "cell_type": "code",
   "execution_count": 3,
   "id": "90d7d041",
   "metadata": {},
   "outputs": [],
   "source": [
    "# Второе задание понравилось куда больше первого,\n",
    "# пытаться как-то разобраться в данных, найти какие-то особенности данных на которые стоит обратить внимание\n",
    "# было интересно, хотя примечательных результатов достичь не удалось(ктоме того, что страница na-carnival-info-page)\n",
    "# абсолютно неэффективна, возможно стоит потестировать ее для таких пользователей, для которых оставшиеся 2 страницы\n",
    "# показывают нулевой результат, но для алгоритма, расчитанного на уже имеющийся набор данных, эту страницу не учитывал.\n",
    "# на выполнение задачи потратил 2-3 дня(около 15 часов)\n",
    "# ярко выраженных трудностей не появилось, сказывается общая неопытность.\n",
    "# большую часть времени посвятил попыткам обнаружить какие особенности в данных, сам алгоритм писал около 2х часов\n",
    "# так как не удалось обнаружить ярковыраженных особенностей взял 3 параметра(browser, os, country),\n",
    "# по ним вычислил процент пользователей с подобными характеристиками и выбрал страницу с лучшим процентом.\n",
    "# Для случая когда коофициенты для всех страниц равны 0 можно добавить отдельный выбор страниц,\n",
    "# ставящий в приоритет страницу с минимальным количеством пользователей, увидивших эту страницу. "
   ]
  },
  {
   "cell_type": "code",
   "execution_count": 4,
   "id": "89b9e689",
   "metadata": {},
   "outputs": [],
   "source": [
    "import pandas as pd\n",
    "import numpy as np"
   ]
  },
  {
   "cell_type": "code",
   "execution_count": 5,
   "id": "b52a18a2",
   "metadata": {},
   "outputs": [],
   "source": [
    "df = pd.read_excel('./Landing Page Data.xlsx')"
   ]
  },
  {
   "cell_type": "code",
   "execution_count": 6,
   "id": "323ba869",
   "metadata": {},
   "outputs": [],
   "source": [
    "import time\n",
    "def timer(f):\n",
    "    def tmp(*args, **kwargs):\n",
    "        t = time.time()\n",
    "        res = f(*args, **kwargs)\n",
    "        print (\"Время выполнения функции: {}\".format(time.time()-t))\n",
    "        return res\n",
    "\n",
    "    return tmp"
   ]
  },
  {
   "cell_type": "code",
   "execution_count": 7,
   "id": "365e0f65",
   "metadata": {
    "scrolled": true
   },
   "outputs": [
    {
     "name": "stdout",
     "output_type": "stream",
     "text": [
      "Время выполнения функции: 25.482803106307983\n"
     ]
    },
    {
     "data": {
      "text/html": [
       "<div>\n",
       "<style scoped>\n",
       "    .dataframe tbody tr th:only-of-type {\n",
       "        vertical-align: middle;\n",
       "    }\n",
       "\n",
       "    .dataframe tbody tr th {\n",
       "        vertical-align: top;\n",
       "    }\n",
       "\n",
       "    .dataframe thead th {\n",
       "        text-align: right;\n",
       "    }\n",
       "</style>\n",
       "<table border=\"1\" class=\"dataframe\">\n",
       "  <thead>\n",
       "    <tr style=\"text-align: right;\">\n",
       "      <th></th>\n",
       "      <th>landing_page</th>\n",
       "      <th>user_id</th>\n",
       "      <th>show_date_time</th>\n",
       "      <th>browser_version</th>\n",
       "      <th>browser</th>\n",
       "      <th>os_name</th>\n",
       "      <th>country</th>\n",
       "      <th>recomended</th>\n",
       "    </tr>\n",
       "  </thead>\n",
       "  <tbody>\n",
       "    <tr>\n",
       "      <th>0</th>\n",
       "      <td>lpceuwottvq4</td>\n",
       "      <td>NaN</td>\n",
       "      <td>2015-02-01 00:00:46</td>\n",
       "      <td>39.0.2171.65</td>\n",
       "      <td>Chrome</td>\n",
       "      <td>Windows</td>\n",
       "      <td>CZ</td>\n",
       "      <td>woteutvsupport</td>\n",
       "    </tr>\n",
       "    <tr>\n",
       "      <th>1</th>\n",
       "      <td>lpceuwottvq4</td>\n",
       "      <td>NaN</td>\n",
       "      <td>2015-02-01 00:04:30</td>\n",
       "      <td>NaN</td>\n",
       "      <td>AndroidBrowser</td>\n",
       "      <td>Linux</td>\n",
       "      <td>DE</td>\n",
       "      <td>lpceuwottvq4</td>\n",
       "    </tr>\n",
       "    <tr>\n",
       "      <th>2</th>\n",
       "      <td>lpceuwottvq4</td>\n",
       "      <td>NaN</td>\n",
       "      <td>2015-02-01 00:08:53</td>\n",
       "      <td>11.0</td>\n",
       "      <td>Microsoft Internet Explorer</td>\n",
       "      <td>Windows</td>\n",
       "      <td>GB</td>\n",
       "      <td>woteutvsupport</td>\n",
       "    </tr>\n",
       "    <tr>\n",
       "      <th>3</th>\n",
       "      <td>lpceuwottvq4</td>\n",
       "      <td>NaN</td>\n",
       "      <td>2015-02-01 00:28:59</td>\n",
       "      <td>40.0.2214.94</td>\n",
       "      <td>Chrome</td>\n",
       "      <td>Windows</td>\n",
       "      <td>PL</td>\n",
       "      <td>woteutvsupport</td>\n",
       "    </tr>\n",
       "    <tr>\n",
       "      <th>4</th>\n",
       "      <td>lpceuwottvq4</td>\n",
       "      <td>NaN</td>\n",
       "      <td>2015-02-01 00:29:11</td>\n",
       "      <td>11.0</td>\n",
       "      <td>Microsoft Internet Explorer</td>\n",
       "      <td>Windows</td>\n",
       "      <td>FR</td>\n",
       "      <td>woteutvsupport</td>\n",
       "    </tr>\n",
       "  </tbody>\n",
       "</table>\n",
       "</div>"
      ],
      "text/plain": [
       "   landing_page  user_id      show_date_time browser_version  \\\n",
       "0  lpceuwottvq4      NaN 2015-02-01 00:00:46    39.0.2171.65   \n",
       "1  lpceuwottvq4      NaN 2015-02-01 00:04:30             NaN   \n",
       "2  lpceuwottvq4      NaN 2015-02-01 00:08:53            11.0   \n",
       "3  lpceuwottvq4      NaN 2015-02-01 00:28:59    40.0.2214.94   \n",
       "4  lpceuwottvq4      NaN 2015-02-01 00:29:11            11.0   \n",
       "\n",
       "                       browser  os_name country      recomended  \n",
       "0                       Chrome  Windows      CZ  woteutvsupport  \n",
       "1               AndroidBrowser    Linux      DE    lpceuwottvq4  \n",
       "2  Microsoft Internet Explorer  Windows      GB  woteutvsupport  \n",
       "3                       Chrome  Windows      PL  woteutvsupport  \n",
       "4  Microsoft Internet Explorer  Windows      FR  woteutvsupport  "
      ]
     },
     "execution_count": 7,
     "metadata": {},
     "output_type": "execute_result"
    }
   ],
   "source": [
    "def get_coof(data: pd.core.frame.DataFrame,\n",
    "             table: str, lp: str):\n",
    "    try:\n",
    "        all_users = data['show_date_time'][lp][table]\n",
    "        if (all_users < 15):\n",
    "            return (-1);\n",
    "        return (data['user_id'][lp][table] / all_users)\n",
    "    except KeyError:\n",
    "        return -1\n",
    "\n",
    "def count_itog_coof(info):\n",
    "    coof = 0\n",
    "    arif = 0 # подсчет количества параметров, учитываемых для расчета коофициента\n",
    "    for i in range(3):\n",
    "        if (info[i] != -1):\n",
    "            arif += 1\n",
    "            coof += info[i]\n",
    "    if (arif == 0):\n",
    "        return 0\n",
    "    return (coof / arif)\n",
    "\n",
    "def recomender(brow: pd.core.frame.DataFrame,\n",
    "                osn: pd.core.frame.DataFrame,\n",
    "                country: pd.core.frame.DataFrame,\n",
    "                br: str, os: str, cntry: str):\n",
    "    lp_br = lp_os = lp_cnt = ws_br = ws_os = ws_cnt = -1\n",
    "    \n",
    "    lp_br = get_coof(brow, br, 'lpceuwottvq4')\n",
    "    lp_os = get_coof(osn, os, 'lpceuwottvq4')\n",
    "    lp_cnt = get_coof(country, cntry, 'lpceuwottvq4')\n",
    "    ws_br = get_coof(brow, br, 'woteutvsupport')\n",
    "    ws_os = get_coof(osn, os, 'woteutvsupport')\n",
    "    ws_cnt = get_coof(country, cntry, 'woteutvsupport')\n",
    "    \n",
    "    lp_coof = count_itog_coof([lp_br, lp_os, lp_cnt])\n",
    "    ws_coof = count_itog_coof([ws_br, ws_os, ws_cnt])\n",
    "        \n",
    "    if (lp_coof >= ws_coof):\n",
    "        return ('lpceuwottvq4')\n",
    "    return ('woteutvsupport')\n",
    "\n",
    "\n",
    "@timer\n",
    "def get_recomendation(df):\n",
    "    df_rework = df[['landing_page','user_id','show_date_time','browser','os_name','country']]\n",
    "    brow = df_rework.groupby(['landing_page','browser']).count()[['show_date_time','user_id']]\n",
    "    osn = df_rework.groupby(['landing_page','os_name']).count()[['show_date_time','user_id']]\n",
    "    country = df_rework.groupby(['landing_page','country']).count() \\\n",
    "                [['show_date_time','user_id']]\n",
    "    df['recomended'] = df.apply(lambda row: \\\n",
    "                       recomender(brow, osn, country, row['browser'], \\\n",
    "                                  row['os_name'], row['country']), axis=1)\n",
    "    return (df)\n",
    "\n",
    "df_new = get_recomendation(df)\n",
    "df_new.head()"
   ]
  },
  {
   "cell_type": "code",
   "execution_count": 8,
   "id": "4217261a",
   "metadata": {},
   "outputs": [],
   "source": [
    "#очень осмысленный граффик\n",
    "# показывает, сколько пользователей могло бы зарегаться в зависимости от того, какая средняя эффективность смены страницы"
   ]
  },
  {
   "cell_type": "code",
   "execution_count": 9,
   "id": "945018aa",
   "metadata": {},
   "outputs": [],
   "source": [
    "df_check = df[['landing_page','user_id','recomended']].dropna(subset=['user_id'])\n",
    "upl_pre = len(df_check)\n",
    "upl_after = len(df_check[df_check['landing_page'] == df_check['recomended']])\n",
    "df_check2 = df[['landing_page','user_id','recomended']]\n",
    "df_check2 = df_check2[pd.isna(df_check2['user_id'])]\n",
    "was_nol_load = len(df_check2)\n",
    "got_new_page = len(df_check2[df_check2['landing_page'] != df_check2['recomended']])"
   ]
  },
  {
   "cell_type": "code",
   "execution_count": 10,
   "id": "eca36d18",
   "metadata": {},
   "outputs": [],
   "source": [
    "import matplotlib.pyplot as plt"
   ]
  },
  {
   "cell_type": "code",
   "execution_count": 11,
   "id": "4e1c0faa",
   "metadata": {},
   "outputs": [],
   "source": [
    "import numpy as np"
   ]
  },
  {
   "cell_type": "code",
   "execution_count": null,
   "id": "7b82ccb1",
   "metadata": {},
   "outputs": [],
   "source": []
  },
  {
   "cell_type": "code",
   "execution_count": 12,
   "id": "f08dd0f3",
   "metadata": {
    "scrolled": true
   },
   "outputs": [],
   "source": [
    "coof = np.round(np.linspace(0.0, 1.0, num = 100), 2)"
   ]
  },
  {
   "cell_type": "code",
   "execution_count": 13,
   "id": "782540ab",
   "metadata": {},
   "outputs": [
    {
     "data": {
      "image/png": "[encoded data removed]",
      "text/plain": [
       "<Figure size 432x288 with 1 Axes>"
      ]
     },
     "metadata": {
      "needs_background": "light"
     },
     "output_type": "display_data"
    }
   ],
   "source": [
    "plt.plot(coof * 100,upl_pre + (coof*0))\n",
    "plt.plot(coof * 100,(upl_after + ((upl_pre - upl_after) * (1-coof)) + got_new_page * coof));\n",
    "plt.ylabel('возможное количество зарегистрировавшихся')\n",
    "plt.xlabel('эфективность влияния смены страницы на решение пользователя')\n",
    "plt.show()"
   ]
  }
 ],
 "metadata": {
  "kernelspec": {
   "display_name": "Python 3 (ipykernel)",
   "language": "python",
   "name": "python3"
  },
  "language_info": {
   "codemirror_mode": {
    "name": "ipython",
    "version": 3
   },
   "file_extension": ".py",
   "mimetype": "text/x-python",
   "name": "python",
   "nbconvert_exporter": "python",
   "pygments_lexer": "ipython3",
   "version": "3.7.9"
  }
 },
 "nbformat": 4,
 "nbformat_minor": 5
}
