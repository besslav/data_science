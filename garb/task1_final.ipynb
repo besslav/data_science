{
 "cells": [
  {
   "cell_type": "code",
   "execution_count": 14,
   "id": "1a338c5a",
   "metadata": {},
   "outputs": [
    {
     "name": "stdout",
     "output_type": "stream",
     "text": [
      "The history saving thread hit an unexpected error (OperationalError('unable to open database file')).History will not be written to the database.\n"
     ]
    }
   ],
   "source": [
    "# С pandas ранее познакомился на бассейне школы 21 по DataScience,\n",
    "# так же проходил связаные с темой DS курсы. С pyspark ранее знаком не был.\n",
    "# на решение через пандас ушло около 12 часов, большую часть времени(минимум 6 часов) решал второй пункт.\n",
    "# на решения через pyspark ушло часов 6, но 2 пункт(и соответственно 5-ый) решить через pyspark не удалось.\n",
    "# судя по замеру скорости выполниния программ МОЕ использование pyspark неэффективно"
   ]
  },
  {
   "cell_type": "code",
   "execution_count": 15,
   "id": "bc7759e6",
   "metadata": {},
   "outputs": [],
   "source": [
    "import pandas as pd\n",
    "import numpy as np\n",
    "\n",
    "df_panda = pd.read_json(\"./assignment_data.jsonl\", lines=True)"
   ]
  },
  {
   "cell_type": "code",
   "execution_count": 16,
   "id": "74dd131f",
   "metadata": {},
   "outputs": [],
   "source": [
    "from pyspark.sql import SparkSession\n",
    "from pyspark.sql.functions import when\n",
    "from pyspark.sql.functions import col\n",
    "from pyspark.sql.functions import desc\n",
    "\n",
    "spark = SparkSession.builder\\\n",
    "        .master(\"local[6]\")\\\n",
    "        .appName('task1')\\\n",
    "        .getOrCreate()\n",
    "\n",
    "json_file = './assignment_data.jsonl'\n",
    "df_spark = spark.read.json(json_file)"
   ]
  },
  {
   "cell_type": "code",
   "execution_count": 17,
   "id": "e4aa3fd2",
   "metadata": {},
   "outputs": [],
   "source": [
    "from datetime import datetime\n",
    "import seaborn as sns"
   ]
  },
  {
   "cell_type": "code",
   "execution_count": 18,
   "id": "fe830865",
   "metadata": {},
   "outputs": [],
   "source": [
    "import time\n",
    "def timer(f):\n",
    "    def tmp(*args, **kwargs):\n",
    "        t = time.time()\n",
    "        res = f(*args, **kwargs)\n",
    "        print (\"Время выполнения функции: {}\".format(time.time()-t))\n",
    "        return res\n",
    "\n",
    "    return tmp"
   ]
  },
  {
   "cell_type": "code",
   "execution_count": 19,
   "id": "e2a689e5",
   "metadata": {},
   "outputs": [],
   "source": [
    "#Сколько сеансов в наборе данных?"
   ]
  },
  {
   "cell_type": "code",
   "execution_count": 20,
   "id": "e5e01554",
   "metadata": {},
   "outputs": [
    {
     "name": "stdout",
     "output_type": "stream",
     "text": [
      "Время выполнения функции: 0.27842092514038086\n",
      "panda_uniq 500587\n"
     ]
    },
    {
     "name": "stderr",
     "output_type": "stream",
     "text": [
      "\r",
      "[Stage 8:>                                                          (0 + 6) / 6]\r"
     ]
    },
    {
     "name": "stdout",
     "output_type": "stream",
     "text": [
      "Время выполнения функции: 0.9381229877471924\n",
      "spark_uniq 500587\n"
     ]
    },
    {
     "name": "stderr",
     "output_type": "stream",
     "text": [
      "\r",
      "[Stage 8:=================================================>         (5 + 1) / 6]\r",
      "\r",
      "                                                                                \r"
     ]
    }
   ],
   "source": [
    "@timer\n",
    "def count_uniq_sessions_panda(df):\n",
    "    return (df['session_id'].nunique())\n",
    "\n",
    "@timer\n",
    "def count_uniq_sessions_spark(df):\n",
    "    df = df.select('session_id')\n",
    "    return (df.distinct().count())\n",
    "\n",
    "print('panda_uniq {}'.format(count_uniq_sessions_panda(df_panda)))\n",
    "print('spark_uniq {}'.format(count_uniq_sessions_spark(df_spark)))"
   ]
  },
  {
   "cell_type": "code",
   "execution_count": 21,
   "id": "f863ffd0",
   "metadata": {},
   "outputs": [],
   "source": [
    "#Сколько сеансов завершается в каждой стране? Выведите 10 лучших результатов, отсортированных по\n",
    "#количеству (DESC) и стране (ASC)."
   ]
  },
  {
   "cell_type": "code",
   "execution_count": 22,
   "id": "feda3092",
   "metadata": {},
   "outputs": [],
   "source": [
    "#pandas_only"
   ]
  },
  {
   "cell_type": "code",
   "execution_count": 23,
   "id": "652197d7",
   "metadata": {
    "scrolled": true
   },
   "outputs": [
    {
     "name": "stderr",
     "output_type": "stream",
     "text": [
      "/Users/pskip/Library/Python/3.7/lib/python/site-packages/ipykernel_launcher.py:6: SettingWithCopyWarning: \n",
      "A value is trying to be set on a copy of a slice from a DataFrame.\n",
      "Try using .loc[row_indexer,col_indexer] = value instead\n",
      "\n",
      "See the caveats in the documentation: https://pandas.pydata.org/pandas-docs/stable/user_guide/indexing.html#returning-a-view-versus-a-copy\n",
      "  \n"
     ]
    },
    {
     "name": "stdout",
     "output_type": "stream",
     "text": [
      "country\n",
      "IT    2839\n",
      "SH    2672\n",
      "AZ    2670\n",
      "AT    2655\n",
      "WF    2616\n",
      "VA    2602\n",
      "HU    2584\n",
      "IL    2563\n",
      "RO    2550\n",
      "KR    2535\n",
      "Name: event, dtype: int64\n",
      "Время выполнения функции: 0.9570639133453369\n"
     ]
    }
   ],
   "source": [
    "@timer\n",
    "def ses_end(df):\n",
    "    players = df.loc[:, ('player_id', 'country')].drop_duplicates().dropna()\n",
    "    players = players.set_index('player_id')['country'].to_dict()\n",
    "    df_end_only = df.loc[df['event'] == 'end']\n",
    "    df_end_only['country'] = df_end_only['player_id'].map(players)\n",
    "    df_count_end_country = df_end_only.groupby(['country']).count()\n",
    "    print(df_count_end_country.sort_values(by=['event', 'country'], ascending=False)['event'].head(10))\n",
    "\n",
    "ses_end(df_panda)"
   ]
  },
  {
   "cell_type": "code",
   "execution_count": 24,
   "id": "6fcd67be",
   "metadata": {},
   "outputs": [],
   "source": [
    "# Сколько сессий завершает каждый игрок? Выведите 10 лучших результатов, отсортированных по\n",
    "#count(DESC) и player_id(ASC)."
   ]
  },
  {
   "cell_type": "code",
   "execution_count": 25,
   "id": "6986e8c1",
   "metadata": {},
   "outputs": [
    {
     "name": "stdout",
     "output_type": "stream",
     "text": [
      "player_id\n",
      "0052e4cfaf494af29d567fcf93057029    50\n",
      "008c31d6d87d4a72ade8900d4c031f59    50\n",
      "019f6864a44e4cd1a271db0fc08c7555    50\n",
      "01d1f31c3c864538a6a5f3cb238d0072    50\n",
      "0259292bb77e4aaba6782372085990be    50\n",
      "04318f09e6e7434bb48226f4a8745c21    50\n",
      "060243602575481db3643bdaacc1146e    50\n",
      "067b20022f2040b0a0b94efb221e1a6e    50\n",
      "072d69b007434968966b4c9ddc4e987c    50\n",
      "08037331842341b2bbfd51d2b12f9049    50\n",
      "Name: event, dtype: int64\n",
      "Время выполнения функции: 0.4953339099884033\n",
      "+--------------------+-----+\n",
      "|           player_id|count|\n",
      "+--------------------+-----+\n",
      "|0052e4cfaf494af29...|   50|\n",
      "|008c31d6d87d4a72a...|   50|\n",
      "|019f6864a44e4cd1a...|   50|\n",
      "|01d1f31c3c864538a...|   50|\n",
      "|0259292bb77e4aaba...|   50|\n",
      "|04318f09e6e7434bb...|   50|\n",
      "|060243602575481db...|   50|\n",
      "|067b20022f2040b0a...|   50|\n",
      "|072d69b0074349689...|   50|\n",
      "|08037331842341b2b...|   50|\n",
      "+--------------------+-----+\n",
      "only showing top 10 rows\n",
      "\n",
      "Время выполнения функции: 0.8985230922698975\n"
     ]
    }
   ],
   "source": [
    "@timer\n",
    "def players_ends_count(df):\n",
    "    df_end_only = df.loc[df['event'] == 'end']\n",
    "    df_count_end_players = df_end_only.groupby(['player_id']).count()\n",
    "    print(df_count_end_players.sort_values(by=['event', 'player_id'], ascending=[False,True])['event'].head(10))\n",
    "\n",
    "@timer\n",
    "def players_ends_count_sp(df):\n",
    "    df_get_player = df.select('player_id', 'event')\n",
    "    df_get_player = df_get_player.filter(df_get_player['event'] == 'end')\n",
    "    df_players_end = df_get_player.groupBy('player_id').count()\n",
    "    df_players_end.sort(col(\"count\").desc(),col(\"player_id\")).show(10)\n",
    "    \n",
    "players_ends_count(df_panda)\n",
    "players_ends_count_sp(df_spark)"
   ]
  },
  {
   "cell_type": "code",
   "execution_count": 26,
   "id": "94e1223b",
   "metadata": {},
   "outputs": [],
   "source": [
    "#В какой стране в 2016 году было начато наибольшее количество сеансов?"
   ]
  },
  {
   "cell_type": "code",
   "execution_count": 27,
   "id": "3573b799",
   "metadata": {},
   "outputs": [
    {
     "name": "stdout",
     "output_type": "stream",
     "text": [
      "country\n",
      "IT    2839\n",
      "Name: event, dtype: int64\n",
      "Время выполнения функции: 0.45368194580078125\n",
      "+-------+-----+\n",
      "|country|count|\n",
      "+-------+-----+\n",
      "|     IT| 2839|\n",
      "+-------+-----+\n",
      "only showing top 1 row\n",
      "\n",
      "Время выполнения функции: 0.5103540420532227\n"
     ]
    }
   ],
   "source": [
    "@timer\n",
    "def count_starts_by_country_pandas(df):\n",
    "    df_start_only = df[df['event'] == 'start']\n",
    "    df_start_only_country = df_start_only.groupby(df_start_only['country']).count()\n",
    "    print(df_start_only_country.sort_values(by = 'event', ascending = False)['event'].head(1))\n",
    "\n",
    "@timer\n",
    "def count_starts_by_country_spark(df):\n",
    "    starts = df.select('country','event').filter(df['event'] == 'start')\n",
    "    starts = starts.groupby('country').count().sort(col(\"count\").desc()).show(1)\n",
    "\n",
    "count_starts_by_country_pandas(df_panda)\n",
    "count_starts_by_country_spark(df_spark)"
   ]
  },
  {
   "cell_type": "code",
   "execution_count": 28,
   "id": "44ea16a2",
   "metadata": {},
   "outputs": [],
   "source": [
    "#График завершенных сеансов  по странам. Гистограмма 10 лучших результатов, отсортированных по\n",
    "#количеству (DESC) и стране (ASC)."
   ]
  },
  {
   "cell_type": "code",
   "execution_count": 31,
   "id": "42a699e1",
   "metadata": {},
   "outputs": [
    {
     "name": "stderr",
     "output_type": "stream",
     "text": [
      "/Users/pskip/Library/Python/3.7/lib/python/site-packages/ipykernel_launcher.py:6: SettingWithCopyWarning: \n",
      "A value is trying to be set on a copy of a slice from a DataFrame.\n",
      "Try using .loc[row_indexer,col_indexer] = value instead\n",
      "\n",
      "See the caveats in the documentation: https://pandas.pydata.org/pandas-docs/stable/user_guide/indexing.html#returning-a-view-versus-a-copy\n",
      "  \n"
     ]
    },
    {
     "name": "stdout",
     "output_type": "stream",
     "text": [
      "Время выполнения функции: 0.8869709968566895\n"
     ]
    },
    {
     "data": {
      "image/png": "[encoded data removed]",
      "text/plain": [
       "<Figure size 432x288 with 1 Axes>"
      ]
     },
     "metadata": {
      "needs_background": "light"
     },
     "output_type": "display_data"
    }
   ],
   "source": [
    "@timer\n",
    "def ses_end_gist(df):\n",
    "    players = df[['player_id', 'country']].drop_duplicates().dropna()\n",
    "    players = players.set_index('player_id')['country'].to_dict()\n",
    "    df_end_only = df.loc[df['event'] == 'end']\n",
    "    df_end_only['country'] = df_end_only['player_id'].map(players)\n",
    "    df_count_end_country = df_end_only.groupby(['country']).count()\n",
    "    df_for_hist10 = df_count_end_country.sort_values(by=['event', 'country'], ascending=False)['event'][:10]\n",
    "    sns_10ends = sns.histplot(df_for_hist10, x=df_for_hist10.index, y=df_for_hist10)\n",
    "    fig = sns_10ends.get_figure()\n",
    "    \n",
    "ses_end_gist(df_panda)"
   ]
  }
 ],
 "metadata": {
  "kernelspec": {
   "display_name": "Python 3 (ipykernel)",
   "language": "python",
   "name": "python3"
  },
  "language_info": {
   "codemirror_mode": {
    "name": "ipython",
    "version": 3
   },
   "file_extension": ".py",
   "mimetype": "text/x-python",
   "name": "python",
   "nbconvert_exporter": "python",
   "pygments_lexer": "ipython3",
   "version": "3.7.9"
  }
 },
 "nbformat": 4,
 "nbformat_minor": 5
}
