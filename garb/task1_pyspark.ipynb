{
 "cells": [
  {
   "cell_type": "code",
   "execution_count": 1,
   "id": "1b403b03",
   "metadata": {},
   "outputs": [],
   "source": [
    "from pyspark.sql import SparkSession"
   ]
  },
  {
   "cell_type": "code",
   "execution_count": 119,
   "id": "26038ed3",
   "metadata": {},
   "outputs": [],
   "source": [
    "from pyspark.sql.functions import when"
   ]
  },
  {
   "cell_type": "code",
   "execution_count": 2,
   "id": "01f6412d",
   "metadata": {},
   "outputs": [
    {
     "name": "stderr",
     "output_type": "stream",
     "text": [
      "Setting default log level to \"WARN\".\n",
      "To adjust logging level use sc.setLogLevel(newLevel). For SparkR, use setLogLevel(newLevel).\n"
     ]
    },
    {
     "name": "stdout",
     "output_type": "stream",
     "text": [
      "22/07/31 12:58:49 WARN NativeCodeLoader: Unable to load native-hadoop library for your platform... using builtin-java classes where applicable\n"
     ]
    }
   ],
   "source": [
    "spark = SparkSession.builder\\\n",
    "        .master(\"local[6]\")\\\n",
    "        .appName('task1')\\\n",
    "        .getOrCreate()"
   ]
  },
  {
   "cell_type": "code",
   "execution_count": 5,
   "id": "a500e050",
   "metadata": {},
   "outputs": [],
   "source": [
    "json_file = './assignment_data.jsonl'\n",
    "df = spark.read.json(json_file)"
   ]
  },
  {
   "cell_type": "code",
   "execution_count": 6,
   "id": "a792954b",
   "metadata": {},
   "outputs": [
    {
     "name": "stdout",
     "output_type": "stream",
     "text": [
      "StructType([StructField('country', StringType(), True), StructField('event', StringType(), True), StructField('player_id', StringType(), True), StructField('session_id', StringType(), True), StructField('ts', StringType(), True)])\n",
      "+-------+-----+--------------------+--------------------+-------------------+\n",
      "|country|event|           player_id|          session_id|                 ts|\n",
      "+-------+-----+--------------------+--------------------+-------------------+\n",
      "|     PK|start|d6313e1fb7d247a6a...|674606b1-2270-428...|2016-11-22T20:40:50|\n",
      "|   null|  end|20ac16ebb30a47708...|16ca9d01-d240-452...|2016-11-18T06:24:50|\n",
      "|   null|  end|318e22b061b54042b...|5f933591-8cd5-414...|2016-11-16T18:01:37|\n",
      "|   null|  end|29bb390d9b1b4b4b9...|ef939180-692a-484...|2016-11-13T10:38:09|\n",
      "|     GH|start|a477ecabc3cc455cb...|4c55263e-66b2-481...|2016-11-29T19:31:43|\n",
      "|     SK|start|1ec36a67785046b3b...|3346a60a-0989-404...|2016-11-16T05:36:16|\n",
      "|     DE|start|9595af0063e94cb8a...|06830030-d091-428...|2016-11-07T01:18:09|\n",
      "|   null|  end|8d0e3cd4a25d4a089...|a78a4889-4bcf-45a...|2016-11-24T02:12:33|\n",
      "|   null|  end|e59f1fa31e144fd8b...|dd223ea6-0e6b-4dd...|2016-11-13T00:35:30|\n",
      "|   null|  end|fd8a1e9fff25471da...|3015bf71-4b28-4c9...|2016-11-21T01:18:57|\n",
      "|     FM|start|5fd71e49d9dc4053b...|1d9e6d4a-e1c0-402...|2016-11-08T23:39:07|\n",
      "|   null|  end|7eaf41e8264946cf9...|c650360a-3a6c-495...|2016-12-01T10:02:42|\n",
      "|     SC|start|4ac6fa82e7a84cad9...|b20c6b98-7f18-4ba...|2016-11-24T15:59:10|\n",
      "|     KG|start|a34a6188d03746eb8...|c522efe9-847a-47b...|2016-11-13T12:46:31|\n",
      "|     EE|start|85b7600411354ff3a...|58dd0153-026d-455...|2016-11-23T17:49:23|\n",
      "|   null|  end|25752b769f5744e98...|94483e5b-bebb-46c...|2016-11-16T18:03:50|\n",
      "|   null|  end|fc287863d671446db...|4f7e416d-fc11-4c3...|2016-12-01T04:53:15|\n",
      "|   null|  end|c408369703f940bb9...|75cbd945-817a-40a...|2016-11-10T23:21:49|\n",
      "|   null|  end|33e5f534cd074991a...|9d73326f-800a-466...|2016-11-13T04:06:08|\n",
      "|     GS|start|03c648a9437d401b8...|cd0f2f42-3ab2-450...|2016-11-29T22:01:36|\n",
      "+-------+-----+--------------------+--------------------+-------------------+\n",
      "only showing top 20 rows\n",
      "\n"
     ]
    }
   ],
   "source": [
    "print(df.schema)\n",
    "df.show()"
   ]
  },
  {
   "cell_type": "code",
   "execution_count": 9,
   "id": "c9877db9",
   "metadata": {},
   "outputs": [
    {
     "data": {
      "text/plain": [
       "['country', 'event', 'player_id', 'session_id', 'ts']"
      ]
     },
     "execution_count": 9,
     "metadata": {},
     "output_type": "execute_result"
    }
   ],
   "source": [
    "df.columns"
   ]
  },
  {
   "cell_type": "code",
   "execution_count": 10,
   "id": "9923995d",
   "metadata": {},
   "outputs": [
    {
     "data": {
      "text/plain": [
       "1001169"
      ]
     },
     "execution_count": 10,
     "metadata": {},
     "output_type": "execute_result"
    }
   ],
   "source": [
    "df.count()"
   ]
  },
  {
   "cell_type": "code",
   "execution_count": 11,
   "id": "918430c1",
   "metadata": {},
   "outputs": [],
   "source": [
    "df_sessions = df.select('session_id')"
   ]
  },
  {
   "cell_type": "code",
   "execution_count": 13,
   "id": "6667ede0",
   "metadata": {},
   "outputs": [
    {
     "name": "stdout",
     "output_type": "stream",
     "text": [
      "+--------------------+\n",
      "|          session_id|\n",
      "+--------------------+\n",
      "|674606b1-2270-428...|\n",
      "|16ca9d01-d240-452...|\n",
      "|5f933591-8cd5-414...|\n",
      "|ef939180-692a-484...|\n",
      "|4c55263e-66b2-481...|\n",
      "|3346a60a-0989-404...|\n",
      "|06830030-d091-428...|\n",
      "|a78a4889-4bcf-45a...|\n",
      "|dd223ea6-0e6b-4dd...|\n",
      "|3015bf71-4b28-4c9...|\n",
      "|1d9e6d4a-e1c0-402...|\n",
      "|c650360a-3a6c-495...|\n",
      "|b20c6b98-7f18-4ba...|\n",
      "|c522efe9-847a-47b...|\n",
      "|58dd0153-026d-455...|\n",
      "|94483e5b-bebb-46c...|\n",
      "|4f7e416d-fc11-4c3...|\n",
      "|75cbd945-817a-40a...|\n",
      "|9d73326f-800a-466...|\n",
      "|cd0f2f42-3ab2-450...|\n",
      "+--------------------+\n",
      "only showing top 20 rows\n",
      "\n"
     ]
    }
   ],
   "source": [
    "df_sessions.show()"
   ]
  },
  {
   "cell_type": "code",
   "execution_count": 15,
   "id": "166e4795",
   "metadata": {},
   "outputs": [
    {
     "name": "stderr",
     "output_type": "stream",
     "text": [
      "                                                                                \r"
     ]
    },
    {
     "data": {
      "text/plain": [
       "500587"
      ]
     },
     "execution_count": 15,
     "metadata": {},
     "output_type": "execute_result"
    }
   ],
   "source": [
    "df_sessions.distinct().count()"
   ]
  },
  {
   "cell_type": "code",
   "execution_count": null,
   "id": "b2289c47",
   "metadata": {},
   "outputs": [],
   "source": [
    "#2"
   ]
  },
  {
   "cell_type": "code",
   "execution_count": 25,
   "id": "d59b6e75",
   "metadata": {},
   "outputs": [],
   "source": [
    "df_get_player_contry = df.select('player_id', 'country')"
   ]
  },
  {
   "cell_type": "code",
   "execution_count": 27,
   "id": "1f35ce05",
   "metadata": {},
   "outputs": [],
   "source": [
    "df_get_player_contry = df_get_player_contry.filter(df_get_player_contry['country'].isNotNull()).distinct()"
   ]
  },
  {
   "cell_type": "code",
   "execution_count": 29,
   "id": "8b836026",
   "metadata": {
    "scrolled": false
   },
   "outputs": [
    {
     "name": "stdout",
     "output_type": "stream",
     "text": [
      "+--------------------+-------+\n",
      "|           player_id|country|\n",
      "+--------------------+-------+\n",
      "|4711ec7f3d21415ca...|     PK|\n",
      "|a7be5d00673a4ef7b...|     US|\n",
      "|95f025dcde354b77b...|     SO|\n",
      "|5543196eab7e4d11b...|     PM|\n",
      "|8371f1125c9b4217a...|     PM|\n",
      "|49bee45c9c6f4fde9...|     NO|\n",
      "|8a554ef458c64f9b9...|     MO|\n",
      "|c7b0293eddab49dab...|     KW|\n",
      "|a1517653eaf442789...|     BW|\n",
      "|da88ec56a16949849...|     MP|\n",
      "|e729f530c8cc410c9...|     ML|\n",
      "|7a3f81604d114f4c9...|     SK|\n",
      "|93acf3f8f4c7414c9...|     IR|\n",
      "|4c61b61e7af446f69...|     LA|\n",
      "|0ce80e676b0c4889b...|     DO|\n",
      "|f5da2bbefbd6468bb...|     SI|\n",
      "|82843986473144f0b...|     PA|\n",
      "|d22e3caf64914095b...|     MP|\n",
      "|b8a790ea6a664b109...|     SO|\n",
      "|265a931b890a4a1d9...|     MD|\n",
      "+--------------------+-------+\n",
      "only showing top 20 rows\n",
      "\n"
     ]
    }
   ],
   "source": [
    "df_get_player_contry.show()"
   ]
  },
  {
   "cell_type": "code",
   "execution_count": 140,
   "id": "11f51d61",
   "metadata": {},
   "outputs": [],
   "source": [
    "end_df = df.select('player_id', 'country','event').filter(df['event'] == 'end')"
   ]
  },
  {
   "cell_type": "code",
   "execution_count": 141,
   "id": "44754e45",
   "metadata": {
    "scrolled": true
   },
   "outputs": [
    {
     "name": "stdout",
     "output_type": "stream",
     "text": [
      "+--------------------+-------+-----+\n",
      "|           player_id|country|event|\n",
      "+--------------------+-------+-----+\n",
      "|20ac16ebb30a47708...|   null|  end|\n",
      "|318e22b061b54042b...|   null|  end|\n",
      "|29bb390d9b1b4b4b9...|   null|  end|\n",
      "|8d0e3cd4a25d4a089...|   null|  end|\n",
      "|e59f1fa31e144fd8b...|   null|  end|\n",
      "|fd8a1e9fff25471da...|   null|  end|\n",
      "|7eaf41e8264946cf9...|   null|  end|\n",
      "|25752b769f5744e98...|   null|  end|\n",
      "|fc287863d671446db...|   null|  end|\n",
      "|c408369703f940bb9...|   null|  end|\n",
      "|33e5f534cd074991a...|   null|  end|\n",
      "|2e43f27713e14e57a...|   null|  end|\n",
      "|ca00e428db7541f29...|   null|  end|\n",
      "|c6cfdef84b264d7da...|   null|  end|\n",
      "|24a008c2d5084f478...|   null|  end|\n",
      "|2c240017adcf4bff9...|   null|  end|\n",
      "|3aa403a22f5a40cf8...|   null|  end|\n",
      "|5a57acfbd4f34d45b...|   null|  end|\n",
      "|0bd5fdd919134c77b...|   null|  end|\n",
      "|0612127e93ca4ce8b...|   null|  end|\n",
      "+--------------------+-------+-----+\n",
      "only showing top 20 rows\n",
      "\n"
     ]
    }
   ],
   "source": [
    "end_df.show()"
   ]
  },
  {
   "cell_type": "code",
   "execution_count": 145,
   "id": "1e88e92b",
   "metadata": {},
   "outputs": [
    {
     "ename": "TypeError",
     "evalue": "col should be Column",
     "output_type": "error",
     "traceback": [
      "\u001b[0;31m---------------------------------------------------------------------------\u001b[0m",
      "\u001b[0;31mTypeError\u001b[0m                                 Traceback (most recent call last)",
      "\u001b[0;32m/var/folders/zz/zyxvpxvq6csfxvn_n003vpk800yxmk/T/ipykernel_20561/3846310880.py\u001b[0m in \u001b[0;36m<module>\u001b[0;34m\u001b[0m\n\u001b[0;32m----> 1\u001b[0;31m \u001b[0mend_df2\u001b[0m \u001b[0;34m=\u001b[0m \u001b[0mend_df\u001b[0m\u001b[0;34m.\u001b[0m\u001b[0mwithColumn\u001b[0m\u001b[0;34m(\u001b[0m\u001b[0;34m\"country\"\u001b[0m\u001b[0;34m,\u001b[0m \u001b[0mdf_get_player_contry\u001b[0m\u001b[0;34m.\u001b[0m\u001b[0mcollect\u001b[0m\u001b[0;34m(\u001b[0m\u001b[0;34m)\u001b[0m\u001b[0;34m[\u001b[0m\u001b[0;36m0\u001b[0m\u001b[0;34m]\u001b[0m\u001b[0;34m[\u001b[0m\u001b[0;36m1\u001b[0m\u001b[0;34m]\u001b[0m\u001b[0;34m)\u001b[0m\u001b[0;34m\u001b[0m\u001b[0;34m\u001b[0m\u001b[0m\n\u001b[0m",
      "\u001b[0;32m~/Library/Python/3.7/lib/python/site-packages/pyspark/sql/dataframe.py\u001b[0m in \u001b[0;36mwithColumn\u001b[0;34m(self, colName, col)\u001b[0m\n\u001b[1;32m   3033\u001b[0m         \"\"\"\n\u001b[1;32m   3034\u001b[0m         \u001b[0;32mif\u001b[0m \u001b[0;32mnot\u001b[0m \u001b[0misinstance\u001b[0m\u001b[0;34m(\u001b[0m\u001b[0mcol\u001b[0m\u001b[0;34m,\u001b[0m \u001b[0mColumn\u001b[0m\u001b[0;34m)\u001b[0m\u001b[0;34m:\u001b[0m\u001b[0;34m\u001b[0m\u001b[0;34m\u001b[0m\u001b[0m\n\u001b[0;32m-> 3035\u001b[0;31m             \u001b[0;32mraise\u001b[0m \u001b[0mTypeError\u001b[0m\u001b[0;34m(\u001b[0m\u001b[0;34m\"col should be Column\"\u001b[0m\u001b[0;34m)\u001b[0m\u001b[0;34m\u001b[0m\u001b[0;34m\u001b[0m\u001b[0m\n\u001b[0m\u001b[1;32m   3036\u001b[0m         \u001b[0;32mreturn\u001b[0m \u001b[0mDataFrame\u001b[0m\u001b[0;34m(\u001b[0m\u001b[0mself\u001b[0m\u001b[0;34m.\u001b[0m\u001b[0m_jdf\u001b[0m\u001b[0;34m.\u001b[0m\u001b[0mwithColumn\u001b[0m\u001b[0;34m(\u001b[0m\u001b[0mcolName\u001b[0m\u001b[0;34m,\u001b[0m \u001b[0mcol\u001b[0m\u001b[0;34m.\u001b[0m\u001b[0m_jc\u001b[0m\u001b[0;34m)\u001b[0m\u001b[0;34m,\u001b[0m \u001b[0mself\u001b[0m\u001b[0;34m.\u001b[0m\u001b[0msparkSession\u001b[0m\u001b[0;34m)\u001b[0m\u001b[0;34m\u001b[0m\u001b[0;34m\u001b[0m\u001b[0m\n\u001b[1;32m   3037\u001b[0m \u001b[0;34m\u001b[0m\u001b[0m\n",
      "\u001b[0;31mTypeError\u001b[0m: col should be Column"
     ]
    }
   ],
   "source": [
    "end_df2 = end_df.withColumn(\"country\", df_get_player_contry.collect()[0][1])"
   ]
  },
  {
   "cell_type": "code",
   "execution_count": null,
   "id": "cb51a55a",
   "metadata": {},
   "outputs": [],
   "source": []
  },
  {
   "cell_type": "code",
   "execution_count": null,
   "id": "2946e67a",
   "metadata": {},
   "outputs": [],
   "source": []
  },
  {
   "cell_type": "code",
   "execution_count": null,
   "id": "7def00db",
   "metadata": {},
   "outputs": [],
   "source": []
  },
  {
   "cell_type": "code",
   "execution_count": null,
   "id": "79348657",
   "metadata": {},
   "outputs": [],
   "source": [
    "#Сколько сессий завершает каждый игрок? Выведите 10 лучших результатов, отсортированных по\n",
    "#count(DESC) и player_id(ASC)."
   ]
  },
  {
   "cell_type": "code",
   "execution_count": 59,
   "id": "4b2867d6",
   "metadata": {},
   "outputs": [],
   "source": [
    "df_get_player = df.select('player_id', 'event')"
   ]
  },
  {
   "cell_type": "code",
   "execution_count": 60,
   "id": "010df481",
   "metadata": {
    "scrolled": false
   },
   "outputs": [],
   "source": [
    "df_get_player = df_get_player.filter(df_get_player['event'] == 'end')"
   ]
  },
  {
   "cell_type": "code",
   "execution_count": 61,
   "id": "40ee2b8a",
   "metadata": {},
   "outputs": [],
   "source": [
    "df_players_end = df_get_player.groupBy('player_id').count()"
   ]
  },
  {
   "cell_type": "code",
   "execution_count": 42,
   "id": "47c3d3eb",
   "metadata": {
    "scrolled": true
   },
   "outputs": [
    {
     "name": "stdout",
     "output_type": "stream",
     "text": [
      "+--------------------+-----+\n",
      "|           player_id|count|\n",
      "+--------------------+-----+\n",
      "|1e61e4785d764b92b...|   84|\n",
      "|05e73a69c41943498...|   50|\n",
      "|c167eb777aba4319b...|   86|\n",
      "|465f81dfdee345669...|   66|\n",
      "|522a28a053a44af69...|   92|\n",
      "|3f282f08b347481b8...|   74|\n",
      "|cd5742d5ad5247a79...|    6|\n",
      "|3e888630d54e4dde9...|   84|\n",
      "|3aa78890e9454b46b...|   40|\n",
      "|ec0a0483fddd4ebfa...|   98|\n",
      "|fffa44da04a24d799...|   54|\n",
      "|d40ae511199c42ef8...|   60|\n",
      "|f147eebba02a4da3b...|   84|\n",
      "|37370d0139544d1ca...|  100|\n",
      "|7f51dffc2bd34e80b...|   54|\n",
      "|42b734c177914718a...|   20|\n",
      "|e8f36a8efded42bfb...|  100|\n",
      "|f5c559197ab34adfa...|    6|\n",
      "|293da457fd584ea18...|   68|\n",
      "|dce1ebcf453e48a38...|   82|\n",
      "+--------------------+-----+\n",
      "only showing top 20 rows\n",
      "\n"
     ]
    }
   ],
   "source": [
    "df_players_end.show()"
   ]
  },
  {
   "cell_type": "code",
   "execution_count": 50,
   "id": "7510ecf5",
   "metadata": {},
   "outputs": [],
   "source": [
    "from pyspark.sql.functions import col\n",
    "from pyspark.sql.functions import desc"
   ]
  },
  {
   "cell_type": "code",
   "execution_count": 63,
   "id": "64b02e24",
   "metadata": {},
   "outputs": [
    {
     "name": "stdout",
     "output_type": "stream",
     "text": [
      "+--------------------+-----+\n",
      "|           player_id|count|\n",
      "+--------------------+-----+\n",
      "|0052e4cfaf494af29...|   50|\n",
      "|008c31d6d87d4a72a...|   50|\n",
      "|019f6864a44e4cd1a...|   50|\n",
      "|01d1f31c3c864538a...|   50|\n",
      "|0259292bb77e4aaba...|   50|\n",
      "|04318f09e6e7434bb...|   50|\n",
      "|060243602575481db...|   50|\n",
      "|067b20022f2040b0a...|   50|\n",
      "|072d69b0074349689...|   50|\n",
      "|08037331842341b2b...|   50|\n",
      "+--------------------+-----+\n",
      "only showing top 10 rows\n",
      "\n"
     ]
    }
   ],
   "source": [
    "df_players_end.sort(col(\"count\").desc(),col(\"player_id\")).show(10)"
   ]
  },
  {
   "cell_type": "code",
   "execution_count": null,
   "id": "e9b96d92",
   "metadata": {},
   "outputs": [],
   "source": [
    "#В какой стране в 2016 году было начато наибольшее количество сеансов?"
   ]
  },
  {
   "cell_type": "code",
   "execution_count": 80,
   "id": "dbbad228",
   "metadata": {},
   "outputs": [],
   "source": [
    "starts = df.select('country','event').filter(df['event'] == 'start')"
   ]
  },
  {
   "cell_type": "code",
   "execution_count": 81,
   "id": "3a1a2a96",
   "metadata": {
    "scrolled": false
   },
   "outputs": [
    {
     "name": "stdout",
     "output_type": "stream",
     "text": [
      "+-------+-----+\n",
      "|country|event|\n",
      "+-------+-----+\n",
      "|     PK|start|\n",
      "|     GH|start|\n",
      "|     SK|start|\n",
      "|     DE|start|\n",
      "|     FM|start|\n",
      "|     SC|start|\n",
      "|     KG|start|\n",
      "|     EE|start|\n",
      "|     GS|start|\n",
      "|     BN|start|\n",
      "|     NR|start|\n",
      "|     GY|start|\n",
      "|     SV|start|\n",
      "|     IS|start|\n",
      "|     NA|start|\n",
      "|     UA|start|\n",
      "|     GF|start|\n",
      "|     BE|start|\n",
      "|     MQ|start|\n",
      "|     PF|start|\n",
      "+-------+-----+\n",
      "only showing top 20 rows\n",
      "\n"
     ]
    }
   ],
   "source": [
    "starts.show()"
   ]
  },
  {
   "cell_type": "code",
   "execution_count": 82,
   "id": "dd64a51e",
   "metadata": {},
   "outputs": [
    {
     "data": {
      "text/plain": [
       "500584"
      ]
     },
     "execution_count": 82,
     "metadata": {},
     "output_type": "execute_result"
    }
   ],
   "source": [
    "starts.count()"
   ]
  },
  {
   "cell_type": "code",
   "execution_count": 83,
   "id": "83ac3758",
   "metadata": {},
   "outputs": [],
   "source": [
    "starts = starts.groupby('country').count()"
   ]
  },
  {
   "cell_type": "code",
   "execution_count": 84,
   "id": "1e3c2212",
   "metadata": {},
   "outputs": [
    {
     "name": "stdout",
     "output_type": "stream",
     "text": [
      "+-------+-----+\n",
      "|country|count|\n",
      "+-------+-----+\n",
      "|     DZ| 1953|\n",
      "|     LT| 2276|\n",
      "|     MM| 1996|\n",
      "|     TC| 2206|\n",
      "|     SC| 1774|\n",
      "|     PM| 2112|\n",
      "|     AZ| 2670|\n",
      "|     FI| 2349|\n",
      "|     UA| 2141|\n",
      "|     KI| 1662|\n",
      "|     ZM| 1680|\n",
      "|     RO| 2550|\n",
      "|     SL| 2202|\n",
      "|     LA| 2402|\n",
      "|     NL| 2247|\n",
      "|     SB| 1626|\n",
      "|     BW| 2168|\n",
      "|     MN| 2365|\n",
      "|     BS| 2239|\n",
      "|     PL| 2119|\n",
      "+-------+-----+\n",
      "only showing top 20 rows\n",
      "\n"
     ]
    }
   ],
   "source": [
    "starts.show()"
   ]
  },
  {
   "cell_type": "code",
   "execution_count": 87,
   "id": "cb61ac5b",
   "metadata": {},
   "outputs": [
    {
     "name": "stdout",
     "output_type": "stream",
     "text": [
      "+-------+-----+\n",
      "|country|count|\n",
      "+-------+-----+\n",
      "|     IT| 2839|\n",
      "+-------+-----+\n",
      "only showing top 1 row\n",
      "\n"
     ]
    }
   ],
   "source": [
    "starts.sort(col(\"count\").desc()).show(1)"
   ]
  },
  {
   "cell_type": "code",
   "execution_count": null,
   "id": "df029535",
   "metadata": {},
   "outputs": [],
   "source": []
  }
 ],
 "metadata": {
  "kernelspec": {
   "display_name": "Python 3 (ipykernel)",
   "language": "python",
   "name": "python3"
  },
  "language_info": {
   "codemirror_mode": {
    "name": "ipython",
    "version": 3
   },
   "file_extension": ".py",
   "mimetype": "text/x-python",
   "name": "python",
   "nbconvert_exporter": "python",
   "pygments_lexer": "ipython3",
   "version": "3.7.9"
  }
 },
 "nbformat": 4,
 "nbformat_minor": 5
}
