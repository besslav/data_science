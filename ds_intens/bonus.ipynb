{
 "cells": [
  {
   "cell_type": "code",
   "execution_count": null,
   "id": "0ab04862",
   "metadata": {},
   "outputs": [],
   "source": [
    "from math import factorial as fctrl\n",
    "from functools import reduce\n",
    "import numpy as np\n",
    "from timeit import timeit\n",
    "import matplotlib.pyplot as plt"
   ]
  },
  {
   "cell_type": "code",
   "execution_count": null,
   "id": "6bca76f0",
   "metadata": {},
   "outputs": [],
   "source": [
    "def factorial1(n):\n",
    "    return fctrl(n)\n",
    "\n",
    "def factorial2(n):\n",
    "    i = 1\n",
    "    ans = 1\n",
    "    while (i < n + 1):\n",
    "        ans *= i\n",
    "        i += 1\n",
    "    return ans\n",
    "\n",
    "def factorial3(n):\n",
    "    s = 1\n",
    "    for j in range(1, n + 1):\n",
    "        s *= j\n",
    "    return s\n",
    "\n",
    "def factorial4(n):\n",
    "    if n == 0:\n",
    "        return 1\n",
    "    return (factorial4(n - 1) * n)\n",
    "\n",
    "def factorial5(n):\n",
    "    return (reduce(lambda x, y: x*y, [i for i in range (1, n + 1)]))\n",
    "\n",
    "def factorial6(n):\n",
    "    return np.prod([i for i in range (1, n + 1)])\n",
    "\n",
    "\n",
    "func = ['factorial1', 'factorial2', 'factorial3',\n",
    "        'factorial4', 'factorial5', 'factorial6']  # Создание списка имен функций\n",
    "time = []                                          # Создание пустого списка времени выполнения функций\n",
    "# Далее код, который в цикле запускает функции, определяет время их выполнения 100 раз\n",
    "# и записывает результат в список time\n",
    "if __name__ == '__main__':\n",
    "    for j in func:\n",
    "        time.append(timeit(j+'(1000)', setup = 'from __main__ import '+j, number = 100))\n",
    "\n",
    "time = np.array(time)                              # Перевод списка в массив numpy, для удобства вычислений\n",
    "time = time*100/time.max() \n",
    "\n",
    "for i, j in zip(func, time):\n",
    "    print(i, '-', str(round(j,2))+'%')\n",
    "    \n",
    "plt.bar(func, time)             # Строим гистограмму\n",
    "plt.show()"
   ]
  },
  {
   "cell_type": "code",
   "execution_count": null,
   "id": "40202f16",
   "metadata": {},
   "outputs": [],
   "source": [
    "# проблема с доступом к дж... nltk\n",
    "import nltk\n",
    "import ssl\n",
    "\n",
    "try:\n",
    "    _create_unverified_https_context = ssl._create_unverified_context\n",
    "except AttributeError:\n",
    "    pass\n",
    "else:\n",
    "    ssl._create_default_https_context = _create_unverified_https_context\n",
    "\n",
    "nltk.download()"
   ]
  }
 ],
 "metadata": {
  "kernelspec": {
   "display_name": "Python 3 (ipykernel)",
   "language": "python",
   "name": "python3"
  },
  "language_info": {
   "codemirror_mode": {
    "name": "ipython",
    "version": 3
   },
   "file_extension": ".py",
   "mimetype": "text/x-python",
   "name": "python",
   "nbconvert_exporter": "python",
   "pygments_lexer": "ipython3",
   "version": "3.7.9"
  }
 },
 "nbformat": 4,
 "nbformat_minor": 5
}
